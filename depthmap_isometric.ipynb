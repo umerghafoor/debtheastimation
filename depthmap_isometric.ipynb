{
 "cells": [
  {
   "cell_type": "code",
   "execution_count": 1,
   "id": "9e99d442",
   "metadata": {},
   "outputs": [],
   "source": [
    "import cv2\n",
    "import numpy as np\n",
    "import matplotlib.pyplot as plt"
   ]
  },
  {
   "cell_type": "code",
   "execution_count": null,
   "id": "fe4fff68",
   "metadata": {},
   "outputs": [],
   "source": [
    "# Load depth image (grayscale)\n",
    "depth_map = cv2.imread(\"depth_map.jpg\", cv2.IMREAD_GRAYSCALE)"
   ]
  },
  {
   "cell_type": "code",
   "execution_count": null,
   "id": "bb434e25",
   "metadata": {},
   "outputs": [],
   "source": [
    "# Resize for faster processing (optional)\n",
    "scale = 1\n",
    "depth_map = cv2.resize(depth_map, (0, 0), fx=scale, fy=scale)\n",
    "\n",
    "h, w = depth_map.shape"
   ]
  },
  {
   "cell_type": "code",
   "execution_count": null,
   "id": "efe0cee4",
   "metadata": {},
   "outputs": [],
   "source": [
    "# Grid step\n",
    "step = 5  # adjust spacing\n",
    "x_points = np.arange(0, w, step)\n",
    "y_points = np.arange(0, h, step)"
   ]
  },
  {
   "cell_type": "code",
   "execution_count": null,
   "id": "653789af",
   "metadata": {},
   "outputs": [],
   "source": [
    "# Generate grid\n",
    "X, Y = np.meshgrid(x_points, y_points)\n",
    "Z = []"
   ]
  },
  {
   "cell_type": "code",
   "execution_count": null,
   "id": "555aa689",
   "metadata": {},
   "outputs": [],
   "source": [
    "# Normalize depth: 0 (black) => 1.0 (far), 255 (white) => 0.0 (close)\n",
    "for y in y_points:\n",
    "    row = []\n",
    "    for x in x_points:\n",
    "        intensity = depth_map[y, x]\n",
    "        z = 1.0 - (intensity / 255.0)  # inverse: black => 1.0, white => 0.0\n",
    "        row.append(z * 500)  # scale Z for visibility\n",
    "    Z.append(row)\n",
    "\n",
    "\n",
    "Z = np.array(Z)"
   ]
  },
  {
   "cell_type": "code",
   "execution_count": null,
   "id": "7121c7eb",
   "metadata": {},
   "outputs": [],
   "source": [
    "# Plot the grid in 3D\n",
    "fig = plt.figure()\n",
    "ax = fig.add_subplot(111, projection='3d')\n",
    "ax.scatter(X, Y, Z, c=Z, cmap='viridis', s=5)\n",
    "\n",
    "ax.set_xlabel('X')\n",
    "ax.set_ylabel('Y')\n",
    "ax.set_zlabel('Z')\n",
    "ax.set_box_aspect([np.ptp(X), np.ptp(Y), np.ptp(Z)])\n",
    "\n",
    "plt.title(\"3D Grid from Depth Map\")\n",
    "plt.show()"
   ]
  },
  {
   "cell_type": "code",
   "execution_count": null,
   "id": "d7255969",
   "metadata": {},
   "outputs": [],
   "source": [
    "fig = plt.figure(figsize=(40, 20))\n",
    "ax = fig.add_subplot(111, projection='3d')\n",
    "ax.scatter(X, Y, Z, c=Z, cmap='viridis', s=5)\n",
    "\n",
    "ax.set_xlabel('X')\n",
    "ax.set_ylabel('Y')\n",
    "ax.set_zlabel('Z')\n",
    "ax.set_box_aspect([np.ptp(X), np.ptp(Y), np.ptp(Z)])\n",
    "plt.title(\"3D Grid from Depth Map\")\n",
    "\n",
    "# Set view angle\n",
    "ax.view_init(elev=360-90, azim=90)\n",
    "\n",
    "plt.show()"
   ]
  }
 ],
 "metadata": {
  "kernelspec": {
   "display_name": "Python 3",
   "language": "python",
   "name": "python3"
  },
  "language_info": {
   "codemirror_mode": {
    "name": "ipython",
    "version": 3
   },
   "file_extension": ".py",
   "mimetype": "text/x-python",
   "name": "python",
   "nbconvert_exporter": "python",
   "pygments_lexer": "ipython3",
   "version": "3.12.11"
  }
 },
 "nbformat": 4,
 "nbformat_minor": 5
}
